{
 "cells": [
  {
   "cell_type": "code",
   "execution_count": 1,
   "metadata": {},
   "outputs": [],
   "source": [
    "import tensorflow as tf\n",
    "from matplotlib import pyplot as plt\n",
    "import random\n",
    "import numpy as np\n",
    "from keras.layers import Dense, Dropout, Flatten\n",
    "from keras.layers import Conv2D, MaxPooling2D, BatchNormalization\n",
    "from keras.models import Sequential\n",
    "from keras.utils import to_categorical\n",
    "from tensorflow.keras.preprocessing.image import ImageDataGenerator\n",
    "from tensorflow.keras.callbacks import ReduceLROnPlateau, LearningRateScheduler\n",
    "from tensorflow.keras.optimizers.legacy import Adam\n",
    "from sklearn.metrics import accuracy_score"
   ]
  },
  {
   "cell_type": "code",
   "execution_count": 2,
   "metadata": {},
   "outputs": [
    {
     "name": "stdout",
     "output_type": "stream",
     "text": [
      "x_train: (60000, 28, 28) y_train: (60000,)\n",
      "x_test: (10000, 28, 28) y_test: (10000,)\n"
     ]
    }
   ],
   "source": [
    "# Cargar el dataset MNIST\n",
    "(x_train, y_train), (x_test, y_test) = tf.keras.datasets.mnist.load_data()\n",
    "\n",
    "# Normalizar las imágenes (opcional pero recomendable)\n",
    "x_train = x_train / 255.0\n",
    "x_test = x_test / 255.0\n",
    "\n",
    "# Ver forma de los datos\n",
    "print(\"x_train:\", x_train.shape, \"y_train:\", y_train.shape)\n",
    "print(\"x_test:\", x_test.shape, \"y_test:\", y_test.shape)"
   ]
  },
  {
   "cell_type": "code",
   "execution_count": 3,
   "metadata": {},
   "outputs": [
    {
     "name": "stdout",
     "output_type": "stream",
     "text": [
      "x_train: (60000, 28, 28, 1) y_train: (60000,)\n",
      "x_test: (10000, 28, 28, 1) y_test: (10000,)\n"
     ]
    },
    {
     "name": "stderr",
     "output_type": "stream",
     "text": [
      "2025-06-08 18:44:15.556399: I metal_plugin/src/device/metal_device.cc:1154] Metal device set to: Apple M1 Pro\n",
      "2025-06-08 18:44:15.556447: I metal_plugin/src/device/metal_device.cc:296] systemMemory: 16.00 GB\n",
      "2025-06-08 18:44:15.556466: I metal_plugin/src/device/metal_device.cc:313] maxCacheSize: 5.33 GB\n",
      "2025-06-08 18:44:15.556953: I tensorflow/core/common_runtime/pluggable_device/pluggable_device_factory.cc:303] Could not identify NUMA node of platform GPU ID 0, defaulting to 0. Your kernel may not have been built with NUMA support.\n",
      "2025-06-08 18:44:15.557362: I tensorflow/core/common_runtime/pluggable_device/pluggable_device_factory.cc:269] Created TensorFlow device (/job:localhost/replica:0/task:0/device:GPU:0 with 0 MB memory) -> physical PluggableDevice (device: 0, name: METAL, pci bus id: <undefined>)\n"
     ]
    }
   ],
   "source": [
    "x_train = tf.reshape(x_train, (-1,28,28,1))\n",
    "x_test = tf.reshape(x_test, (-1, 28,28,1))\n",
    "\n",
    "print(\"x_train:\", x_train.shape, \"y_train:\", y_train.shape)\n",
    "print(\"x_test:\", x_test.shape, \"y_test:\", y_test.shape)"
   ]
  },
  {
   "cell_type": "code",
   "execution_count": 4,
   "metadata": {},
   "outputs": [
    {
     "data": {
      "image/png": "[encoded data removed]",
      "text/plain": [
       "<Figure size 1000x300 with 6 Axes>"
      ]
     },
     "metadata": {},
     "output_type": "display_data"
    }
   ],
   "source": [
    "fig, axs = plt.subplots(2, 3, figsize=(10, 3))\n",
    "\n",
    "for i in range(2):\n",
    "    for j in range(3):\n",
    "        idx_image = random.randint(0,len(x_train)-1)\n",
    "        axs[i,j].imshow(x_train[idx_image], cmap='gray')\n",
    "        axs[i,j].set_title(f\"Label: {y_train[idx_image]}\")\n",
    "        axs[i,j].axis('off')\n",
    "\n",
    "plt.tight_layout()\n",
    "plt.show()"
   ]
  },
  {
   "cell_type": "code",
   "execution_count": 5,
   "metadata": {},
   "outputs": [
    {
     "name": "stdout",
     "output_type": "stream",
     "text": [
      "Before [y_train[0]]: 5\n",
      "After [y_train[0]]: [0. 0. 0. 0. 0. 1. 0. 0. 0. 0.]\n"
     ]
    }
   ],
   "source": [
    "print(\"Before [y_train[0]]:\",y_train[0])\n",
    "y_train = to_categorical(y_train, num_classes=10)\n",
    "y_test = to_categorical(y_test, num_classes=10)\n",
    "print(\"After [y_train[0]]:\",y_train[0])"
   ]
  },
  {
   "cell_type": "markdown",
   "metadata": {},
   "source": [
    "# Data augmentation"
   ]
  },
  {
   "cell_type": "code",
   "execution_count": 6,
   "metadata": {},
   "outputs": [],
   "source": [
    "datagen = ImageDataGenerator(rotation_range=20, width_shift_range=0.2, height_shift_range=0.2,\n",
    "                             shear_range=0.2, zoom_range=0.1, horizontal_flip=False, fill_mode=\"nearest\")\n",
    "datagen.fit(x_train)"
   ]
  },
  {
   "cell_type": "code",
   "execution_count": 7,
   "metadata": {},
   "outputs": [
    {
     "data": {
      "image/png": "[encoded data removed]",
      "text/plain": [
       "<Figure size 1000x500 with 5 Axes>"
      ]
     },
     "metadata": {},
     "output_type": "display_data"
    }
   ],
   "source": [
    "# Seleccionar una imagen de ejemplo\n",
    "img = np.expand_dims(x_train[4], axis=0)  # Añadir dimensión batch\n",
    "\n",
    "# Crear el iterador\n",
    "augmented_generator = datagen.flow(img, batch_size=1)  # Generar imágenes de una en una\n",
    "\n",
    "# Mostramos las 5 variaciones de una misma imagen\n",
    "plt.figure(figsize=(10, 5))\n",
    "for i in range(5):\n",
    "    augmented_img = next(augmented_generator)[0]  # Obtener la imagen del generador\n",
    "    plt.subplot(1, 5, i + 1)\n",
    "    plt.imshow(augmented_img)  # Convertir a entero para mostrar correctamente\n",
    "    plt.title(f\"Clase: {np.argmax(y_train[4])}\")\n",
    "    plt.axis(\"off\")\n",
    "plt.show()"
   ]
  },
  {
   "cell_type": "markdown",
   "metadata": {},
   "source": [
    "# CNN"
   ]
  },
  {
   "cell_type": "code",
   "execution_count": 8,
   "metadata": {},
   "outputs": [],
   "source": [
    "model = Sequential()\n",
    "model.add(Conv2D(filters=32, kernel_size=(3, 3), activation='relu', strides=1, padding='same', data_format='channels_last',\n",
    "                 input_shape=(28,28,1)))\n",
    "model.add(BatchNormalization())\n",
    "model.add(Conv2D(filters=32, kernel_size=(3, 3), activation='relu', strides=1, padding='same', data_format='channels_last'))\n",
    "model.add(BatchNormalization())\n",
    "model.add(MaxPooling2D(pool_size=(2, 2), strides=2, padding='valid' ))\n",
    "model.add(Dropout(0.25))\n",
    "\n",
    "model.add(Conv2D(filters=64, kernel_size=(3, 3), activation='relu', strides=1, padding='same', data_format='channels_last'))\n",
    "model.add(BatchNormalization())\n",
    "model.add(Conv2D(filters=64, kernel_size=(3, 3), strides=1, padding='same', activation='relu', data_format='channels_last'))\n",
    "model.add(BatchNormalization())\n",
    "model.add(MaxPooling2D(pool_size=(2, 2), padding='valid', strides=2))\n",
    "model.add(Dropout(0.25))\n",
    "\n",
    "model.add(Flatten())\n",
    "model.add(Dense(512, activation='relu'))\n",
    "model.add(BatchNormalization())\n",
    "model.add(Dropout(0.25))\n",
    "model.add(Dense(1024, activation='relu'))\n",
    "model.add(BatchNormalization())\n",
    "model.add(Dropout(0.5))\n",
    "model.add(Dense(10, activation='softmax'))"
   ]
  },
  {
   "cell_type": "code",
   "execution_count": 9,
   "metadata": {},
   "outputs": [
    {
     "name": "stderr",
     "output_type": "stream",
     "text": [
      "/Users/maciasalvasalva/miniconda3/envs/MachineLearning/lib/python3.10/site-packages/keras/src/optimizers/legacy/adam.py:118: UserWarning: The `lr` argument is deprecated, use `learning_rate` instead.\n",
      "  super().__init__(name, **kwargs)\n"
     ]
    }
   ],
   "source": [
    "#Optimizer\n",
    "optimizer = Adam(lr=0.001, beta_1=0.9, beta_2=0.999 )\n",
    "\n",
    "#Compiling the model\n",
    "model.compile(optimizer=optimizer, loss=\"categorical_crossentropy\", metrics=[\"accuracy\"])"
   ]
  },
  {
   "cell_type": "code",
   "execution_count": 10,
   "metadata": {},
   "outputs": [],
   "source": [
    "#Define LearningRateScheduler\n",
    "reduce_lr = LearningRateScheduler(lambda x: 1e-3 * 0.9 ** x)"
   ]
  },
  {
   "cell_type": "code",
   "execution_count": 11,
   "metadata": {},
   "outputs": [
    {
     "name": "stdout",
     "output_type": "stream",
     "text": [
      "Epoch 1/10\n"
     ]
    },
    {
     "name": "stderr",
     "output_type": "stream",
     "text": [
      "/var/folders/pk/5lcc82957kv6k6hlpjcnblfr0000gn/T/ipykernel_11650/540997549.py:5: UserWarning: `Model.fit_generator` is deprecated and will be removed in a future version. Please use `Model.fit`, which supports generators.\n",
      "  history = model.fit_generator(datagen.flow(x_train, y_train, batch_size = batch_size), epochs = epochs,\n",
      "2025-06-08 18:44:16.958210: I tensorflow/core/grappler/optimizers/custom_graph_optimizer_registry.cc:114] Plugin optimizer for device_type GPU is enabled.\n"
     ]
    },
    {
     "name": "stdout",
     "output_type": "stream",
     "text": [
      "937/937 [==============================] - ETA: 0s - loss: 0.6015 - accuracy: 0.8213"
     ]
    },
    {
     "name": "stderr",
     "output_type": "stream",
     "text": [
      "2025-06-08 18:44:38.647029: I tensorflow/core/grappler/optimizers/custom_graph_optimizer_registry.cc:114] Plugin optimizer for device_type GPU is enabled.\n"
     ]
    },
    {
     "name": "stdout",
     "output_type": "stream",
     "text": [
      "937/937 [==============================] - 25s 25ms/step - loss: 0.6015 - accuracy: 0.8213 - val_loss: 0.1126 - val_accuracy: 0.9657 - lr: 0.0010\n",
      "Epoch 2/10\n",
      "937/937 [==============================] - 23s 25ms/step - loss: 0.2141 - accuracy: 0.9372 - val_loss: 0.1016 - val_accuracy: 0.9721 - lr: 9.0000e-04\n",
      "Epoch 3/10\n",
      "937/937 [==============================] - 23s 25ms/step - loss: 0.1667 - accuracy: 0.9501 - val_loss: 0.0417 - val_accuracy: 0.9875 - lr: 8.1000e-04\n",
      "Epoch 4/10\n",
      "937/937 [==============================] - 23s 25ms/step - loss: 0.1383 - accuracy: 0.9589 - val_loss: 0.0625 - val_accuracy: 0.9828 - lr: 7.2900e-04\n",
      "Epoch 5/10\n",
      "937/937 [==============================] - 23s 25ms/step - loss: 0.1217 - accuracy: 0.9642 - val_loss: 0.0423 - val_accuracy: 0.9869 - lr: 6.5610e-04\n",
      "Epoch 6/10\n",
      "937/937 [==============================] - 23s 25ms/step - loss: 0.1131 - accuracy: 0.9669 - val_loss: 0.0469 - val_accuracy: 0.9875 - lr: 5.9049e-04\n",
      "Epoch 7/10\n",
      "937/937 [==============================] - 23s 25ms/step - loss: 0.1017 - accuracy: 0.9695 - val_loss: 0.0324 - val_accuracy: 0.9900 - lr: 5.3144e-04\n",
      "Epoch 8/10\n",
      "937/937 [==============================] - 23s 25ms/step - loss: 0.0938 - accuracy: 0.9730 - val_loss: 0.0413 - val_accuracy: 0.9881 - lr: 4.7830e-04\n",
      "Epoch 9/10\n",
      "937/937 [==============================] - 24s 25ms/step - loss: 0.0930 - accuracy: 0.9725 - val_loss: 0.0342 - val_accuracy: 0.9897 - lr: 4.3047e-04\n",
      "Epoch 10/10\n",
      "937/937 [==============================] - 24s 26ms/step - loss: 0.0844 - accuracy: 0.9756 - val_loss: 0.0375 - val_accuracy: 0.9888 - lr: 3.8742e-04\n"
     ]
    }
   ],
   "source": [
    "batch_size = 64\n",
    "epochs = 10\n",
    "\n",
    "# Fit the Model\n",
    "history = model.fit_generator(datagen.flow(x_train, y_train, batch_size = batch_size), epochs = epochs, \n",
    "                              validation_data = (x_test, y_test), verbose=1, \n",
    "                              steps_per_epoch=x_train.shape[0] // batch_size,\n",
    "                              callbacks = [reduce_lr]) #left out early_stopping parameter as it gets better accuracy"
   ]
  },
  {
   "cell_type": "code",
   "execution_count": 12,
   "metadata": {},
   "outputs": [
    {
     "name": "stdout",
     "output_type": "stream",
     "text": [
      " 30/313 [=>............................] - ETA: 1s"
     ]
    },
    {
     "name": "stderr",
     "output_type": "stream",
     "text": [
      "2025-06-08 18:48:12.836999: I tensorflow/core/grappler/optimizers/custom_graph_optimizer_registry.cc:114] Plugin optimizer for device_type GPU is enabled.\n"
     ]
    },
    {
     "name": "stdout",
     "output_type": "stream",
     "text": [
      "313/313 [==============================] - 1s 4ms/step\n",
      "Test accuracy: 0.9888\n"
     ]
    }
   ],
   "source": [
    "predictions = model.predict(x_test)\n",
    "# Convertir las probabilidades a las clases predichas\n",
    "predictions_classes = np.argmax(predictions, axis=-1)\n",
    "# Ahora comparas las predicciones con las etiquetas reales (y_test)\n",
    "accuracy = accuracy_score(np.argmax(y_test, axis=-1), predictions_classes)\n",
    "print(f\"Test accuracy: {accuracy}\")"
   ]
  },
  {
   "cell_type": "code",
   "execution_count": 13,
   "metadata": {},
   "outputs": [
    {
     "data": {
      "text/plain": [
       "Text(0.5, 1.0, 'Accuracy Curves [CNN]')"
      ]
     },
     "execution_count": 13,
     "metadata": {},
     "output_type": "execute_result"
    },
    {
     "data": {
      "image/png": "[encoded data removed]",
      "text/plain": [
       "<Figure size 600x400 with 1 Axes>"
      ]
     },
     "metadata": {},
     "output_type": "display_data"
    },
    {
     "data": {
      "image/png": "[encoded data removed]",
      "text/plain": [
       "<Figure size 600x400 with 1 Axes>"
      ]
     },
     "metadata": {},
     "output_type": "display_data"
    }
   ],
   "source": [
    "# Loss curve\n",
    "plt.figure(figsize=[6,4])\n",
    "plt.plot(history.history['loss'], 'black', linewidth=2.0)\n",
    "plt.plot(history.history['val_loss'], 'green', linewidth=2.0)\n",
    "plt.legend(['Training Loss', 'Validation Loss'], fontsize=14)\n",
    "plt.xlabel('Epochs', fontsize=10)\n",
    "plt.ylabel('Loss', fontsize=10)\n",
    "plt.title('Loss Curves [CNN]', fontsize=12)\n",
    "\n",
    "plt.figure(figsize=[6,4])\n",
    "plt.plot(history.history['accuracy'], 'black', linewidth=2.0)\n",
    "plt.plot(history.history['val_accuracy'], 'blue', linewidth=2.0)\n",
    "plt.legend(['Training Accuracy', 'Validation Accuracy'], fontsize=14)\n",
    "plt.xlabel('Epochs', fontsize=10)\n",
    "plt.ylabel('Accuracy', fontsize=10)\n",
    "plt.title('Accuracy Curves [CNN]', fontsize=12)"
   ]
  },
  {
   "cell_type": "markdown",
   "metadata": {},
   "source": [
    "# Save model"
   ]
  },
  {
   "cell_type": "code",
   "execution_count": 14,
   "metadata": {},
   "outputs": [
    {
     "name": "stdout",
     "output_type": "stream",
     "text": [
      "INFO:tensorflow:Assets written to: modelo_completo_tf/assets\n"
     ]
    },
    {
     "name": "stderr",
     "output_type": "stream",
     "text": [
      "INFO:tensorflow:Assets written to: modelo_completo_tf/assets\n"
     ]
    }
   ],
   "source": [
    "model.save(\"modelo_completo_tf\", save_format='tf')"
   ]
  },
  {
   "cell_type": "markdown",
   "metadata": {},
   "source": [
    "# Predictions"
   ]
  },
  {
   "cell_type": "code",
   "execution_count": 17,
   "metadata": {},
   "outputs": [
    {
     "name": "stdout",
     "output_type": "stream",
     "text": [
      "1/1 [==============================] - 0s 19ms/step\n",
      "Imagen: test_image_9.jpg => Predicción: 9 => sin argmax: [[1.2246611e-05 3.8386332e-07 6.2224630e-05 9.9811132e-06 3.1439427e-03\n",
      "  6.5951253e-06 1.7196989e-07 1.5504830e-04 1.3132489e-04 9.9647814e-01]]\n",
      "1/1 [==============================] - 0s 13ms/step\n",
      "Imagen: test_image_3.jpg => Predicción: 3 => sin argmax: [[1.8322818e-10 3.8691404e-11 5.1089150e-06 9.9999166e-01 5.4183358e-10\n",
      "  1.2035747e-06 2.2244980e-11 9.3672696e-08 1.8738971e-06 2.3942182e-09]]\n",
      "1/1 [==============================] - 0s 13ms/step\n",
      "Imagen: test_image_2.jpg => Predicción: 2 => sin argmax: [[2.3641919e-03 1.6565808e-05 9.9726343e-01 3.4172197e-05 3.5670837e-05\n",
      "  8.3961286e-06 1.5149092e-05 2.3519011e-04 2.2237968e-05 5.0274516e-06]]\n",
      "1/1 [==============================] - 0s 13ms/step\n",
      "Imagen: test_image_0.jpg => Predicción: 0 => sin argmax: [[9.9883610e-01 2.3886811e-08 6.9893600e-04 5.0332387e-06 2.3043988e-07\n",
      "  3.6899437e-04 3.7011810e-05 2.8981212e-06 3.5723377e-05 1.5040855e-05]]\n",
      "1/1 [==============================] - 0s 13ms/step\n",
      "Imagen: test_image_5.jpg => Predicción: 5 => sin argmax: [[4.97555629e-06 9.70931495e-08 4.52119333e-04 1.05261495e-02\n",
      "  7.70427960e-06 9.84445274e-01 1.90458650e-05 1.78194864e-06\n",
      "  2.69500259e-03 1.84787950e-03]]\n"
     ]
    }
   ],
   "source": [
    "from PIL import Image\n",
    "# import numpy as np\n",
    "import os\n",
    "\n",
    "folder_path = 'test_image'\n",
    "for image_name in os.listdir('test_image'):\n",
    "\n",
    "    image_path = os.path.join(folder_path, image_name)\n",
    "    \n",
    "    # Cargar y preprocesar imagen\n",
    "    img = Image.open(image_path).convert('L').resize((28, 28))\n",
    "    img = np.array(img).astype('float32') / 255.0\n",
    "    img = img.reshape(1, 28, 28, 1)  # batch size 1\n",
    "    \n",
    "    # Predecir\n",
    "    pred = model.predict(img)\n",
    "    predicted_class = np.argmax(pred, axis=1)[0]\n",
    "    \n",
    "    print(f'Imagen: {image_name} => Predicción: {predicted_class} => sin argmax: {pred}')"
   ]
  },
  {
   "cell_type": "code",
   "execution_count": 18,
   "metadata": {},
   "outputs": [
    {
     "name": "stdout",
     "output_type": "stream",
     "text": [
      "1/1 [==============================] - 0s 13ms/step\n",
      "Imagen: test_image_9.jpg => Predicción: 9 => sin argmax: [[1.2246611e-05 3.8386332e-07 6.2224630e-05 9.9811132e-06 3.1439427e-03\n",
      "  6.5951253e-06 1.7196989e-07 1.5504830e-04 1.3132489e-04 9.9647814e-01]]\n",
      "1/1 [==============================] - 0s 13ms/step\n",
      "Imagen: test_image_3.jpg => Predicción: 3 => sin argmax: [[1.8322818e-10 3.8691404e-11 5.1089150e-06 9.9999166e-01 5.4183358e-10\n",
      "  1.2035747e-06 2.2244980e-11 9.3672696e-08 1.8738971e-06 2.3942182e-09]]\n",
      "1/1 [==============================] - 0s 13ms/step\n",
      "Imagen: test_image_2.jpg => Predicción: 2 => sin argmax: [[2.3641919e-03 1.6565808e-05 9.9726343e-01 3.4172197e-05 3.5670837e-05\n",
      "  8.3961286e-06 1.5149092e-05 2.3519011e-04 2.2237968e-05 5.0274516e-06]]\n",
      "1/1 [==============================] - 0s 13ms/step\n",
      "Imagen: test_image_0.jpg => Predicción: 0 => sin argmax: [[9.9883610e-01 2.3886811e-08 6.9893600e-04 5.0332387e-06 2.3043988e-07\n",
      "  3.6899437e-04 3.7011810e-05 2.8981212e-06 3.5723377e-05 1.5040855e-05]]\n",
      "1/1 [==============================] - 0s 13ms/step\n",
      "Imagen: test_image_5.jpg => Predicción: 5 => sin argmax: [[4.97555629e-06 9.70931495e-08 4.52119333e-04 1.05261495e-02\n",
      "  7.70427960e-06 9.84445274e-01 1.90458650e-05 1.78194864e-06\n",
      "  2.69500259e-03 1.84787950e-03]]\n"
     ]
    }
   ],
   "source": [
    "model_to_deploy = tf.keras.models.load_model(\"modelo_completo_tf\")\n",
    "\n",
    "for image_name in os.listdir('test_image'):\n",
    "\n",
    "    image_path = os.path.join(folder_path, image_name)\n",
    "    \n",
    "    # Cargar y preprocesar imagen\n",
    "    img = Image.open(image_path).convert('L').resize((28, 28))\n",
    "    img = np.array(img).astype('float32') / 255.0\n",
    "    img = img.reshape(1, 28, 28, 1)  # batch size 1\n",
    "    \n",
    "    # Predecir\n",
    "    pred = model.predict(img)\n",
    "    predicted_class = np.argmax(pred, axis=1)[0]\n",
    "    \n",
    "    print(f'Imagen: {image_name} => Predicción: {predicted_class} => sin argmax: {pred}')"
   ]
  }
 ],
 "metadata": {
  "kernelspec": {
   "display_name": "MachineLearning",
   "language": "python",
   "name": "python3"
  },
  "language_info": {
   "codemirror_mode": {
    "name": "ipython",
    "version": 3
   },
   "file_extension": ".py",
   "mimetype": "text/x-python",
   "name": "python",
   "nbconvert_exporter": "python",
   "pygments_lexer": "ipython3",
   "version": "3.10.14"
  }
 },
 "nbformat": 4,
 "nbformat_minor": 2
}
